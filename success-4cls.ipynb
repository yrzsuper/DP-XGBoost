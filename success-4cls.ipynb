{
 "cells": [
  {
   "cell_type": "code",
   "execution_count": 1,
   "id": "6a396f13",
   "metadata": {},
   "outputs": [
    {
     "name": "stdout",
     "output_type": "stream",
     "text": [
      "======== ['/Users/yangchengyi/Downloads/myCode/src/dpxgboost/lib/libxgboost.dylib']\n",
      "======== /Users/yangchengyi/opt/anaconda3/bin:/Users/yangchengyi/opt/anaconda3/condabin:/Library/Frameworks/Python.framework/Versions/2.7/bin:/usr/local/bin:/usr/bin:/bin:/usr/sbin:/sbin:/Library/TeX/texbin:/usr/local/go/bin:/opt/X11/bin:/Library/Apple/usr/bin:/Users/yangchengyi/Downloads/myCode/src/dpxgboost/lib\n",
      "======== <CDLL '/Users/yangchengyi/Downloads/myCode/src/dpxgboost/lib/libxgboost.dylib', handle 20be298e0 at 0x7fb291449b20>\n"
     ]
    }
   ],
   "source": [
    "import numpy as np\n",
    "import dpxgboost as xgb\n",
    "from matplotlib import pyplot as plt\n",
    "import argparse\n",
    "\n",
    "import pandas as pd\n",
    "\n",
    "from sklearn.preprocessing import normalize\n",
    "from sklearn.model_selection import train_test_split\n",
    "from sklearn.metrics import accuracy_score"
   ]
  },
  {
   "cell_type": "code",
   "execution_count": 2,
   "id": "9b4235d9",
   "metadata": {},
   "outputs": [],
   "source": [
    "LD = pd.read_excel('dataset/soybean_data.xlsx', sheet_name = 0, index_col=\"Unnamed: 0\")\n",
    "LQ = pd.read_excel('dataset/soybean_data.xlsx', sheet_name = 1, index_col=\"Unnamed: 0\")\n",
    "LY = pd.read_excel('dataset/soybean_data.xlsx', sheet_name = 2, index_col=\"Unnamed: 0\")\n",
    "QJ = pd.read_excel('dataset/soybean_data.xlsx', sheet_name = 3, index_col=\"Unnamed: 0\")"
   ]
  },
  {
   "cell_type": "code",
   "execution_count": 3,
   "id": "612fc2ca",
   "metadata": {},
   "outputs": [],
   "source": [
    "soy_data = pd.concat([LD, LQ, LY, QJ],axis=0,sort=False)"
   ]
  },
  {
   "cell_type": "code",
   "execution_count": 4,
   "id": "52146f78",
   "metadata": {},
   "outputs": [
    {
     "data": {
      "text/plain": [
       "408"
      ]
     },
     "execution_count": 4,
     "metadata": {},
     "output_type": "execute_result"
    }
   ],
   "source": [
    "labels_list = soy_data.index\n",
    "prefix_labels_list = []\n",
    "for name in labels_list:\n",
    "    tmp_name = \"\"\n",
    "    for token in name:\n",
    "        if token.isalpha():\n",
    "            tmp_name += token\n",
    "    prefix_labels_list.append(tmp_name)\n",
    "len(prefix_labels_list)"
   ]
  },
  {
   "cell_type": "code",
   "execution_count": 5,
   "id": "86d60c0b",
   "metadata": {},
   "outputs": [
    {
     "name": "stdout",
     "output_type": "stream",
     "text": [
      "{'LD': 96, 'LQ': 101, 'LY': 111, 'QJ': 100}\n"
     ]
    }
   ],
   "source": [
    "labels_counts_dict = dict()\n",
    "for name in prefix_labels_list:\n",
    "    if name in labels_counts_dict:\n",
    "        labels_counts_dict[name] += 1\n",
    "    else:\n",
    "        labels_counts_dict[name] = 1\n",
    "print(labels_counts_dict)"
   ]
  },
  {
   "cell_type": "code",
   "execution_count": 6,
   "id": "b92447e0",
   "metadata": {},
   "outputs": [],
   "source": [
    "soy_data.index = prefix_labels_list"
   ]
  },
  {
   "cell_type": "code",
   "execution_count": 7,
   "id": "429daff8",
   "metadata": {},
   "outputs": [],
   "source": [
    "features = soy_data\n",
    "del soy_data"
   ]
  },
  {
   "cell_type": "code",
   "execution_count": 8,
   "id": "0cf91110",
   "metadata": {},
   "outputs": [],
   "source": [
    "features = features.fillna(features.mean())"
   ]
  },
  {
   "cell_type": "code",
   "execution_count": 9,
   "id": "7eaf23cf",
   "metadata": {},
   "outputs": [
    {
     "data": {
      "text/plain": [
       "pandas.core.frame.DataFrame"
      ]
     },
     "execution_count": 9,
     "metadata": {},
     "output_type": "execute_result"
    }
   ],
   "source": [
    "type(features)"
   ]
  },
  {
   "cell_type": "code",
   "execution_count": 10,
   "id": "ee488f88",
   "metadata": {},
   "outputs": [
    {
     "name": "stdout",
     "output_type": "stream",
     "text": [
      "<class 'pandas.core.frame.DataFrame'>\n",
      "Index: 408 entries, LD to QJ\n",
      "Columns: 2454 entries, 10995.44 to 3998.858\n",
      "dtypes: float64(2454)\n",
      "memory usage: 7.6+ MB\n"
     ]
    }
   ],
   "source": [
    "features.info()"
   ]
  },
  {
   "cell_type": "code",
   "execution_count": 11,
   "id": "8964b171",
   "metadata": {},
   "outputs": [],
   "source": [
    "char2num_dict = dict()\n",
    "num = 0\n",
    "for key in labels_counts_dict:\n",
    "    char2num_dict[key] = num\n",
    "    num += 1\n",
    "del num"
   ]
  },
  {
   "cell_type": "code",
   "execution_count": 12,
   "id": "1631fcd5",
   "metadata": {},
   "outputs": [
    {
     "data": {
      "text/plain": [
       "{'LD': 0, 'LQ': 1, 'LY': 2, 'QJ': 3}"
      ]
     },
     "execution_count": 12,
     "metadata": {},
     "output_type": "execute_result"
    }
   ],
   "source": [
    "char2num_dict"
   ]
  },
  {
   "cell_type": "code",
   "execution_count": 13,
   "id": "6c488ec1",
   "metadata": {},
   "outputs": [],
   "source": [
    "labels = []\n",
    "for i in features.index:\n",
    "    labels.append(char2num_dict[i])"
   ]
  },
  {
   "cell_type": "code",
   "execution_count": 14,
   "id": "eef32e91",
   "metadata": {},
   "outputs": [],
   "source": [
    "features = np.array(features)\n",
    "labels = np.array(labels)"
   ]
  },
  {
   "cell_type": "code",
   "execution_count": 15,
   "id": "d7ab9079",
   "metadata": {},
   "outputs": [],
   "source": [
    "features = normalize(X = features, axis = 1)"
   ]
  },
  {
   "cell_type": "code",
   "execution_count": 16,
   "id": "2816d31e",
   "metadata": {},
   "outputs": [],
   "source": [
    "X_train, X_test, y_train, y_test = train_test_split(\n",
    "    features, labels, test_size = 0.2\n",
    ")"
   ]
  },
  {
   "cell_type": "code",
   "execution_count": 17,
   "id": "bdcf094f",
   "metadata": {},
   "outputs": [],
   "source": [
    "kRows = 326\n",
    "kCols = 2454\n",
    "kClasses = 4                    # number of classes\n",
    "\n",
    "kRounds = 100                    # number of boosting rounds.\n",
    "\n",
    "# Generate some random data for demo.\n",
    "X = np.random.randn(kRows, kCols)\n",
    "y = np.random.randint(0, 4, size=kRows)\n",
    "\n",
    "m = xgb.DMatrix(X_train, y_train)"
   ]
  },
  {
   "cell_type": "code",
   "execution_count": 18,
   "id": "cb0bae28",
   "metadata": {},
   "outputs": [
    {
     "data": {
      "text/plain": [
       "((326, 2454), (326, 2454))"
      ]
     },
     "execution_count": 18,
     "metadata": {},
     "output_type": "execute_result"
    }
   ],
   "source": [
    "X.shape, X_train.shape"
   ]
  },
  {
   "cell_type": "code",
   "execution_count": 19,
   "id": "aaddcf97",
   "metadata": {},
   "outputs": [
    {
     "data": {
      "text/plain": [
       "((326,), (326,))"
      ]
     },
     "execution_count": 19,
     "metadata": {},
     "output_type": "execute_result"
    }
   ],
   "source": [
    "y.shape, y_train.shape"
   ]
  },
  {
   "cell_type": "code",
   "execution_count": 20,
   "id": "c9c2fe37",
   "metadata": {},
   "outputs": [],
   "source": [
    "def softmax(x):\n",
    "    '''Softmax function with x as input vector.'''\n",
    "    e = np.exp(x)\n",
    "    return e / np.sum(e)\n",
    "\n",
    "\n",
    "def softprob_obj(predt: np.ndarray, data: xgb.DMatrix):\n",
    "    '''Loss function.  Computing the gradient and approximated hessian (diagonal).\n",
    "    Reimplements the `multi:softprob` inside XGBoost.\n",
    "\n",
    "    '''\n",
    "    print('======data======',type(data))\n",
    "    \n",
    "    labels = data.get_label()\n",
    "    if data.get_weight().size == 0:\n",
    "        # Use 1 as weight if we don't have custom weight.\n",
    "        weights = np.ones((kRows, 1), dtype=float)\n",
    "    else:\n",
    "        weights = data.get_weight()\n",
    "\n",
    "    # The prediction is of shape (rows, classes), each element in a row\n",
    "    # represents a raw prediction (leaf weight, hasn't gone through softmax\n",
    "    # yet).  In XGBoost 1.0.0, the prediction is transformed by a softmax\n",
    "    # function, fixed in later versions.\n",
    "    \n",
    "    print(\"predt.shape\", predt.shape )\n",
    "    print(\"(kRows, kClasses)\", (kRows, kClasses))\n",
    "    \n",
    "    assert predt.shape == (kRows, kClasses)\n",
    "\n",
    "    grad = np.zeros((kRows, kClasses), dtype=float)\n",
    "    hess = np.zeros((kRows, kClasses), dtype=float)\n",
    "\n",
    "    eps = 1e-6\n",
    "\n",
    "    # compute the gradient and hessian, slow iterations in Python, only\n",
    "    # suitable for demo.  Also the one in native XGBoost core is more robust to\n",
    "    # numeric overflow as we don't do anything to mitigate the `exp` in\n",
    "    # `softmax` here.\n",
    "    for r in range(predt.shape[0]):\n",
    "        target = labels[r]\n",
    "        p = softmax(predt[r, :])\n",
    "        for c in range(predt.shape[1]):\n",
    "            assert target >= 0 or target <= kClasses\n",
    "            g = p[c] - 1.0 if c == target else p[c]\n",
    "            g = g * weights[r]\n",
    "            h = max((2.0 * p[c] * (1.0 - p[c]) * weights[r]).item(), eps)\n",
    "            grad[r, c] = g\n",
    "            hess[r, c] = h\n",
    "\n",
    "    # Right now (XGBoost 1.0.0), reshaping is necessary\n",
    "    grad = grad.reshape((kRows * kClasses, 1))\n",
    "    hess = hess.reshape((kRows * kClasses, 1))\n",
    "    \n",
    "    grad = grad + np.random.normal(loc=0,scale=0.002,size=grad.shape)\n",
    "    hess = hess + np.random.normal(loc=0,scale=0.002,size=hess.shape)\n",
    "    return grad, hess"
   ]
  },
  {
   "cell_type": "code",
   "execution_count": 21,
   "id": "a44e0f9b",
   "metadata": {},
   "outputs": [],
   "source": [
    "def predict(booster: xgb.Booster, X):\n",
    "    '''A customized prediction function that converts raw prediction to\n",
    "    target class.\n",
    "\n",
    "    '''\n",
    "    # Output margin means we want to obtain the raw prediction obtained from\n",
    "    # tree leaf weight.\n",
    "    predt = booster.predict(X, output_margin=True)\n",
    "    out = np.zeros(kRows)\n",
    "    for r in range(predt.shape[0]):\n",
    "        # the class with maximum prob (not strictly prob as it haven't gone\n",
    "        # through softmax yet so it doesn't sum to 1, but result is the same\n",
    "        # for argmax).\n",
    "        i = np.argmax(predt[r])\n",
    "        out[r] = i\n",
    "    return out\n",
    "\n",
    "\n",
    "def merror(predt: np.ndarray, dtrain: xgb.DMatrix):\n",
    "    y = dtrain.get_label()\n",
    "    # Like custom objective, the predt is untransformed leaf weight when custom objective\n",
    "    # is provided.\n",
    "\n",
    "    # With the use of `custom_metric` parameter in train function, custom metric receives\n",
    "    # raw input only when custom objective is also being used.  Otherwise custom metric\n",
    "    # will receive transformed prediction.\n",
    "    assert predt.shape == (kRows, kClasses)\n",
    "    out = np.zeros(kRows)\n",
    "    for r in range(predt.shape[0]):\n",
    "        i = np.argmax(predt[r])\n",
    "        out[r] = i\n",
    "\n",
    "    assert y.shape == out.shape\n",
    "\n",
    "    errors = np.zeros(kRows)\n",
    "    errors[y != out] = 1.0\n",
    "    return 'PyMError', np.sum(errors) / kRows\n",
    "\n",
    "\n",
    "def plot_history(custom_results, native_results):\n",
    "    fig, axs = plt.subplots(2, 1)\n",
    "    ax0 = axs[0]\n",
    "    ax1 = axs[1]\n",
    "\n",
    "    pymerror = custom_results['train']['PyMError']\n",
    "    merror = native_results['train']['merror']\n",
    "\n",
    "    x = np.arange(0, kRounds, 1)\n",
    "    ax0.plot(x, pymerror, label='Custom objective')\n",
    "    ax0.legend()\n",
    "    ax1.plot(x, merror, label='multi:softmax')\n",
    "    ax1.legend()\n",
    "\n",
    "    plt.show()"
   ]
  },
  {
   "cell_type": "code",
   "execution_count": 22,
   "id": "43bb0ba4",
   "metadata": {},
   "outputs": [],
   "source": [
    "del m"
   ]
  },
  {
   "cell_type": "code",
   "execution_count": 23,
   "id": "d7f7363b",
   "metadata": {},
   "outputs": [],
   "source": [
    "m = xgb.DMatrix(X_train, y_train)"
   ]
  },
  {
   "cell_type": "code",
   "execution_count": 24,
   "id": "bc7ba967",
   "metadata": {
    "scrolled": false
   },
   "outputs": [
    {
     "name": "stdout",
     "output_type": "stream",
     "text": [
      "======data====== <class 'dpxgboost.core.DMatrix'>\n",
      "predt.shape (326, 4)\n",
      "(kRows, kClasses) (326, 4)\n",
      "[0]\ttrain-PyMError:0.00307\n",
      "======data====== <class 'dpxgboost.core.DMatrix'>\n",
      "predt.shape (326, 4)\n",
      "(kRows, kClasses) (326, 4)\n",
      "[1]\ttrain-PyMError:0.00000\n",
      "======data====== <class 'dpxgboost.core.DMatrix'>\n",
      "predt.shape (326, 4)\n",
      "(kRows, kClasses) (326, 4)\n",
      "[2]\ttrain-PyMError:0.00000\n",
      "======data====== <class 'dpxgboost.core.DMatrix'>\n",
      "predt.shape (326, 4)\n",
      "(kRows, kClasses) (326, 4)\n",
      "[3]\ttrain-PyMError:0.00000\n",
      "======data====== <class 'dpxgboost.core.DMatrix'>\n",
      "predt.shape (326, 4)\n",
      "(kRows, kClasses) (326, 4)\n",
      "[4]\ttrain-PyMError:0.00000\n",
      "======data====== <class 'dpxgboost.core.DMatrix'>\n",
      "predt.shape (326, 4)\n",
      "(kRows, kClasses) (326, 4)\n",
      "[5]\ttrain-PyMError:0.00000\n",
      "======data====== <class 'dpxgboost.core.DMatrix'>\n",
      "predt.shape (326, 4)\n",
      "(kRows, kClasses) (326, 4)\n",
      "[6]\ttrain-PyMError:0.00000\n",
      "======data====== <class 'dpxgboost.core.DMatrix'>\n",
      "predt.shape (326, 4)\n",
      "(kRows, kClasses) (326, 4)\n",
      "[7]\ttrain-PyMError:0.00000\n",
      "======data====== <class 'dpxgboost.core.DMatrix'>\n",
      "predt.shape (326, 4)\n",
      "(kRows, kClasses) (326, 4)\n",
      "[8]\ttrain-PyMError:0.00000\n",
      "======data====== <class 'dpxgboost.core.DMatrix'>\n",
      "predt.shape (326, 4)\n",
      "(kRows, kClasses) (326, 4)\n",
      "[9]\ttrain-PyMError:0.00000\n",
      "======data====== <class 'dpxgboost.core.DMatrix'>\n",
      "predt.shape (326, 4)\n",
      "(kRows, kClasses) (326, 4)\n",
      "[10]\ttrain-PyMError:0.00000\n",
      "======data====== <class 'dpxgboost.core.DMatrix'>\n",
      "predt.shape (326, 4)\n",
      "(kRows, kClasses) (326, 4)\n",
      "[11]\ttrain-PyMError:0.00000\n",
      "======data====== <class 'dpxgboost.core.DMatrix'>\n",
      "predt.shape (326, 4)\n",
      "(kRows, kClasses) (326, 4)\n",
      "[12]\ttrain-PyMError:0.00000\n",
      "======data====== <class 'dpxgboost.core.DMatrix'>\n",
      "predt.shape (326, 4)\n",
      "(kRows, kClasses) (326, 4)\n",
      "[13]\ttrain-PyMError:0.00000\n",
      "======data====== <class 'dpxgboost.core.DMatrix'>\n",
      "predt.shape (326, 4)\n",
      "(kRows, kClasses) (326, 4)\n",
      "[14]\ttrain-PyMError:0.00000\n",
      "======data====== <class 'dpxgboost.core.DMatrix'>\n",
      "predt.shape (326, 4)\n",
      "(kRows, kClasses) (326, 4)\n",
      "[15]\ttrain-PyMError:0.00000\n",
      "======data====== <class 'dpxgboost.core.DMatrix'>\n",
      "predt.shape (326, 4)\n",
      "(kRows, kClasses) (326, 4)\n",
      "[16]\ttrain-PyMError:0.00000\n",
      "======data====== <class 'dpxgboost.core.DMatrix'>\n",
      "predt.shape (326, 4)\n",
      "(kRows, kClasses) (326, 4)\n",
      "[17]\ttrain-PyMError:0.00000\n",
      "======data====== <class 'dpxgboost.core.DMatrix'>\n",
      "predt.shape (326, 4)\n",
      "(kRows, kClasses) (326, 4)\n",
      "[18]\ttrain-PyMError:0.00000\n",
      "======data====== <class 'dpxgboost.core.DMatrix'>\n",
      "predt.shape (326, 4)\n",
      "(kRows, kClasses) (326, 4)\n",
      "[19]\ttrain-PyMError:0.00000\n",
      "======data====== <class 'dpxgboost.core.DMatrix'>\n",
      "predt.shape (326, 4)\n",
      "(kRows, kClasses) (326, 4)\n",
      "[20]\ttrain-PyMError:0.00000\n",
      "======data====== <class 'dpxgboost.core.DMatrix'>\n",
      "predt.shape (326, 4)\n",
      "(kRows, kClasses) (326, 4)\n",
      "[21]\ttrain-PyMError:0.00000\n",
      "======data====== <class 'dpxgboost.core.DMatrix'>\n",
      "predt.shape (326, 4)\n",
      "(kRows, kClasses) (326, 4)\n",
      "[22]\ttrain-PyMError:0.00000\n",
      "======data====== <class 'dpxgboost.core.DMatrix'>\n",
      "predt.shape (326, 4)\n",
      "(kRows, kClasses) (326, 4)\n",
      "[23]\ttrain-PyMError:0.00000\n",
      "======data====== <class 'dpxgboost.core.DMatrix'>\n",
      "predt.shape (326, 4)\n",
      "(kRows, kClasses) (326, 4)\n",
      "[24]\ttrain-PyMError:0.00000\n",
      "======data====== <class 'dpxgboost.core.DMatrix'>\n",
      "predt.shape (326, 4)\n",
      "(kRows, kClasses) (326, 4)\n",
      "[25]\ttrain-PyMError:0.00000\n",
      "======data====== <class 'dpxgboost.core.DMatrix'>\n",
      "predt.shape (326, 4)\n",
      "(kRows, kClasses) (326, 4)\n",
      "[26]\ttrain-PyMError:0.00000\n",
      "======data====== <class 'dpxgboost.core.DMatrix'>\n",
      "predt.shape (326, 4)\n",
      "(kRows, kClasses) (326, 4)\n",
      "[27]\ttrain-PyMError:0.00000\n",
      "======data====== <class 'dpxgboost.core.DMatrix'>\n",
      "predt.shape (326, 4)\n",
      "(kRows, kClasses) (326, 4)\n",
      "[28]\ttrain-PyMError:0.00000\n",
      "======data====== <class 'dpxgboost.core.DMatrix'>\n",
      "predt.shape (326, 4)\n",
      "(kRows, kClasses) (326, 4)\n",
      "[29]\ttrain-PyMError:0.00000\n",
      "======data====== <class 'dpxgboost.core.DMatrix'>\n",
      "predt.shape (326, 4)\n",
      "(kRows, kClasses) (326, 4)\n",
      "[30]\ttrain-PyMError:0.00000\n",
      "======data====== <class 'dpxgboost.core.DMatrix'>\n",
      "predt.shape (326, 4)\n",
      "(kRows, kClasses) (326, 4)\n",
      "[31]\ttrain-PyMError:0.00000\n",
      "======data====== <class 'dpxgboost.core.DMatrix'>\n",
      "predt.shape (326, 4)\n",
      "(kRows, kClasses) (326, 4)\n",
      "[32]\ttrain-PyMError:0.00000\n",
      "======data====== <class 'dpxgboost.core.DMatrix'>\n",
      "predt.shape (326, 4)\n",
      "(kRows, kClasses) (326, 4)\n",
      "[33]\ttrain-PyMError:0.00000\n",
      "======data====== <class 'dpxgboost.core.DMatrix'>\n",
      "predt.shape (326, 4)\n",
      "(kRows, kClasses) (326, 4)\n",
      "[34]\ttrain-PyMError:0.00000\n",
      "======data====== <class 'dpxgboost.core.DMatrix'>\n",
      "predt.shape (326, 4)\n",
      "(kRows, kClasses) (326, 4)\n",
      "[35]\ttrain-PyMError:0.00000\n",
      "======data====== <class 'dpxgboost.core.DMatrix'>\n",
      "predt.shape (326, 4)\n",
      "(kRows, kClasses) (326, 4)\n",
      "[36]\ttrain-PyMError:0.00000\n",
      "======data====== <class 'dpxgboost.core.DMatrix'>\n",
      "predt.shape (326, 4)\n",
      "(kRows, kClasses) (326, 4)\n",
      "[37]\ttrain-PyMError:0.00000\n",
      "======data====== <class 'dpxgboost.core.DMatrix'>\n",
      "predt.shape (326, 4)\n",
      "(kRows, kClasses) (326, 4)\n",
      "[38]\ttrain-PyMError:0.00000\n",
      "======data====== <class 'dpxgboost.core.DMatrix'>\n",
      "predt.shape (326, 4)\n",
      "(kRows, kClasses) (326, 4)\n",
      "[39]\ttrain-PyMError:0.00000\n",
      "======data====== <class 'dpxgboost.core.DMatrix'>\n",
      "predt.shape (326, 4)\n",
      "(kRows, kClasses) (326, 4)\n",
      "[40]\ttrain-PyMError:0.00000\n",
      "======data====== <class 'dpxgboost.core.DMatrix'>\n",
      "predt.shape (326, 4)\n",
      "(kRows, kClasses) (326, 4)\n",
      "[41]\ttrain-PyMError:0.00000\n",
      "======data====== <class 'dpxgboost.core.DMatrix'>\n",
      "predt.shape (326, 4)\n",
      "(kRows, kClasses) (326, 4)\n",
      "[42]\ttrain-PyMError:0.00000\n",
      "======data====== <class 'dpxgboost.core.DMatrix'>\n",
      "predt.shape (326, 4)\n",
      "(kRows, kClasses) (326, 4)\n",
      "[43]\ttrain-PyMError:0.00000\n",
      "======data====== <class 'dpxgboost.core.DMatrix'>\n",
      "predt.shape (326, 4)\n",
      "(kRows, kClasses) (326, 4)\n",
      "[44]\ttrain-PyMError:0.00000\n",
      "======data====== <class 'dpxgboost.core.DMatrix'>\n",
      "predt.shape (326, 4)\n",
      "(kRows, kClasses) (326, 4)\n",
      "[45]\ttrain-PyMError:0.00000\n",
      "======data====== <class 'dpxgboost.core.DMatrix'>\n",
      "predt.shape (326, 4)\n",
      "(kRows, kClasses) (326, 4)\n",
      "[46]\ttrain-PyMError:0.00000\n",
      "======data====== <class 'dpxgboost.core.DMatrix'>\n",
      "predt.shape (326, 4)\n",
      "(kRows, kClasses) (326, 4)\n",
      "[47]\ttrain-PyMError:0.00000\n",
      "======data====== <class 'dpxgboost.core.DMatrix'>\n",
      "predt.shape (326, 4)\n",
      "(kRows, kClasses) (326, 4)\n",
      "[48]\ttrain-PyMError:0.00000\n",
      "======data====== <class 'dpxgboost.core.DMatrix'>\n",
      "predt.shape (326, 4)\n",
      "(kRows, kClasses) (326, 4)\n",
      "[49]\ttrain-PyMError:0.00000\n",
      "======data====== <class 'dpxgboost.core.DMatrix'>\n",
      "predt.shape (326, 4)\n",
      "(kRows, kClasses) (326, 4)\n",
      "[50]\ttrain-PyMError:0.00000\n",
      "======data====== <class 'dpxgboost.core.DMatrix'>\n",
      "predt.shape (326, 4)\n",
      "(kRows, kClasses) (326, 4)\n",
      "[51]\ttrain-PyMError:0.00000\n",
      "======data====== <class 'dpxgboost.core.DMatrix'>\n",
      "predt.shape (326, 4)\n",
      "(kRows, kClasses) (326, 4)\n",
      "[52]\ttrain-PyMError:0.00000\n",
      "======data====== <class 'dpxgboost.core.DMatrix'>\n",
      "predt.shape (326, 4)\n",
      "(kRows, kClasses) (326, 4)\n",
      "[53]\ttrain-PyMError:0.00000\n",
      "======data====== <class 'dpxgboost.core.DMatrix'>\n",
      "predt.shape (326, 4)\n",
      "(kRows, kClasses) (326, 4)\n",
      "[54]\ttrain-PyMError:0.00000\n",
      "======data====== <class 'dpxgboost.core.DMatrix'>\n",
      "predt.shape (326, 4)\n",
      "(kRows, kClasses) (326, 4)\n",
      "[55]\ttrain-PyMError:0.00000\n",
      "======data====== <class 'dpxgboost.core.DMatrix'>\n",
      "predt.shape (326, 4)\n",
      "(kRows, kClasses) (326, 4)\n",
      "[56]\ttrain-PyMError:0.00000\n",
      "======data====== <class 'dpxgboost.core.DMatrix'>\n",
      "predt.shape (326, 4)\n",
      "(kRows, kClasses) (326, 4)\n",
      "[57]\ttrain-PyMError:0.00000\n",
      "======data====== <class 'dpxgboost.core.DMatrix'>\n",
      "predt.shape (326, 4)\n",
      "(kRows, kClasses) (326, 4)\n",
      "[58]\ttrain-PyMError:0.00000\n",
      "======data====== <class 'dpxgboost.core.DMatrix'>\n",
      "predt.shape (326, 4)\n",
      "(kRows, kClasses) (326, 4)\n",
      "[59]\ttrain-PyMError:0.00000\n",
      "======data====== <class 'dpxgboost.core.DMatrix'>\n",
      "predt.shape (326, 4)\n",
      "(kRows, kClasses) (326, 4)\n",
      "[60]\ttrain-PyMError:0.00000\n",
      "======data====== <class 'dpxgboost.core.DMatrix'>\n",
      "predt.shape (326, 4)\n",
      "(kRows, kClasses) (326, 4)\n",
      "[61]\ttrain-PyMError:0.00000\n",
      "======data====== <class 'dpxgboost.core.DMatrix'>\n",
      "predt.shape (326, 4)\n",
      "(kRows, kClasses) (326, 4)\n",
      "[62]\ttrain-PyMError:0.00000\n",
      "======data====== <class 'dpxgboost.core.DMatrix'>\n",
      "predt.shape (326, 4)\n",
      "(kRows, kClasses) (326, 4)\n",
      "[63]\ttrain-PyMError:0.00000\n",
      "======data====== <class 'dpxgboost.core.DMatrix'>\n",
      "predt.shape (326, 4)\n",
      "(kRows, kClasses) (326, 4)\n",
      "[64]\ttrain-PyMError:0.00000\n",
      "======data====== <class 'dpxgboost.core.DMatrix'>\n",
      "predt.shape (326, 4)\n",
      "(kRows, kClasses) (326, 4)\n"
     ]
    },
    {
     "name": "stdout",
     "output_type": "stream",
     "text": [
      "[65]\ttrain-PyMError:0.00000\n",
      "======data====== <class 'dpxgboost.core.DMatrix'>\n",
      "predt.shape (326, 4)\n",
      "(kRows, kClasses) (326, 4)\n",
      "[66]\ttrain-PyMError:0.00000\n",
      "======data====== <class 'dpxgboost.core.DMatrix'>\n",
      "predt.shape (326, 4)\n",
      "(kRows, kClasses) (326, 4)\n",
      "[67]\ttrain-PyMError:0.00000\n",
      "======data====== <class 'dpxgboost.core.DMatrix'>\n",
      "predt.shape (326, 4)\n",
      "(kRows, kClasses) (326, 4)\n",
      "[68]\ttrain-PyMError:0.00000\n",
      "======data====== <class 'dpxgboost.core.DMatrix'>\n",
      "predt.shape (326, 4)\n",
      "(kRows, kClasses) (326, 4)\n",
      "[69]\ttrain-PyMError:0.00000\n",
      "======data====== <class 'dpxgboost.core.DMatrix'>\n",
      "predt.shape (326, 4)\n",
      "(kRows, kClasses) (326, 4)\n",
      "[70]\ttrain-PyMError:0.00000\n",
      "======data====== <class 'dpxgboost.core.DMatrix'>\n",
      "predt.shape (326, 4)\n",
      "(kRows, kClasses) (326, 4)\n",
      "[71]\ttrain-PyMError:0.00000\n",
      "======data====== <class 'dpxgboost.core.DMatrix'>\n",
      "predt.shape (326, 4)\n",
      "(kRows, kClasses) (326, 4)\n",
      "[72]\ttrain-PyMError:0.00000\n",
      "======data====== <class 'dpxgboost.core.DMatrix'>\n",
      "predt.shape (326, 4)\n",
      "(kRows, kClasses) (326, 4)\n",
      "[73]\ttrain-PyMError:0.00000\n",
      "======data====== <class 'dpxgboost.core.DMatrix'>\n",
      "predt.shape (326, 4)\n",
      "(kRows, kClasses) (326, 4)\n",
      "[74]\ttrain-PyMError:0.00000\n",
      "======data====== <class 'dpxgboost.core.DMatrix'>\n",
      "predt.shape (326, 4)\n",
      "(kRows, kClasses) (326, 4)\n",
      "[75]\ttrain-PyMError:0.00000\n",
      "======data====== <class 'dpxgboost.core.DMatrix'>\n",
      "predt.shape (326, 4)\n",
      "(kRows, kClasses) (326, 4)\n",
      "[76]\ttrain-PyMError:0.00000\n",
      "======data====== <class 'dpxgboost.core.DMatrix'>\n",
      "predt.shape (326, 4)\n",
      "(kRows, kClasses) (326, 4)\n",
      "[77]\ttrain-PyMError:0.00000\n",
      "======data====== <class 'dpxgboost.core.DMatrix'>\n",
      "predt.shape (326, 4)\n",
      "(kRows, kClasses) (326, 4)\n",
      "[78]\ttrain-PyMError:0.00000\n",
      "======data====== <class 'dpxgboost.core.DMatrix'>\n",
      "predt.shape (326, 4)\n",
      "(kRows, kClasses) (326, 4)\n",
      "[79]\ttrain-PyMError:0.00000\n",
      "======data====== <class 'dpxgboost.core.DMatrix'>\n",
      "predt.shape (326, 4)\n",
      "(kRows, kClasses) (326, 4)\n",
      "[80]\ttrain-PyMError:0.00000\n",
      "======data====== <class 'dpxgboost.core.DMatrix'>\n",
      "predt.shape (326, 4)\n",
      "(kRows, kClasses) (326, 4)\n",
      "[81]\ttrain-PyMError:0.00000\n",
      "======data====== <class 'dpxgboost.core.DMatrix'>\n",
      "predt.shape (326, 4)\n",
      "(kRows, kClasses) (326, 4)\n",
      "[82]\ttrain-PyMError:0.00000\n",
      "======data====== <class 'dpxgboost.core.DMatrix'>\n",
      "predt.shape (326, 4)\n",
      "(kRows, kClasses) (326, 4)\n",
      "[83]\ttrain-PyMError:0.00000\n",
      "======data====== <class 'dpxgboost.core.DMatrix'>\n",
      "predt.shape (326, 4)\n",
      "(kRows, kClasses) (326, 4)\n",
      "[84]\ttrain-PyMError:0.00000\n",
      "======data====== <class 'dpxgboost.core.DMatrix'>\n",
      "predt.shape (326, 4)\n",
      "(kRows, kClasses) (326, 4)\n",
      "[85]\ttrain-PyMError:0.00000\n",
      "======data====== <class 'dpxgboost.core.DMatrix'>\n",
      "predt.shape (326, 4)\n",
      "(kRows, kClasses) (326, 4)\n",
      "[86]\ttrain-PyMError:0.00000\n",
      "======data====== <class 'dpxgboost.core.DMatrix'>\n",
      "predt.shape (326, 4)\n",
      "(kRows, kClasses) (326, 4)\n",
      "[87]\ttrain-PyMError:0.00000\n",
      "======data====== <class 'dpxgboost.core.DMatrix'>\n",
      "predt.shape (326, 4)\n",
      "(kRows, kClasses) (326, 4)\n",
      "[88]\ttrain-PyMError:0.00000\n",
      "======data====== <class 'dpxgboost.core.DMatrix'>\n",
      "predt.shape (326, 4)\n",
      "(kRows, kClasses) (326, 4)\n",
      "[89]\ttrain-PyMError:0.00000\n",
      "======data====== <class 'dpxgboost.core.DMatrix'>\n",
      "predt.shape (326, 4)\n",
      "(kRows, kClasses) (326, 4)\n",
      "[90]\ttrain-PyMError:0.00000\n",
      "======data====== <class 'dpxgboost.core.DMatrix'>\n",
      "predt.shape (326, 4)\n",
      "(kRows, kClasses) (326, 4)\n",
      "[91]\ttrain-PyMError:0.00000\n",
      "======data====== <class 'dpxgboost.core.DMatrix'>\n",
      "predt.shape (326, 4)\n",
      "(kRows, kClasses) (326, 4)\n",
      "[92]\ttrain-PyMError:0.00000\n",
      "======data====== <class 'dpxgboost.core.DMatrix'>\n",
      "predt.shape (326, 4)\n",
      "(kRows, kClasses) (326, 4)\n",
      "[93]\ttrain-PyMError:0.00000\n",
      "======data====== <class 'dpxgboost.core.DMatrix'>\n",
      "predt.shape (326, 4)\n",
      "(kRows, kClasses) (326, 4)\n",
      "[94]\ttrain-PyMError:0.00000\n",
      "======data====== <class 'dpxgboost.core.DMatrix'>\n",
      "predt.shape (326, 4)\n",
      "(kRows, kClasses) (326, 4)\n",
      "[95]\ttrain-PyMError:0.00000\n",
      "======data====== <class 'dpxgboost.core.DMatrix'>\n",
      "predt.shape (326, 4)\n",
      "(kRows, kClasses) (326, 4)\n",
      "[96]\ttrain-PyMError:0.00000\n",
      "======data====== <class 'dpxgboost.core.DMatrix'>\n",
      "predt.shape (326, 4)\n",
      "(kRows, kClasses) (326, 4)\n",
      "[97]\ttrain-PyMError:0.00000\n",
      "======data====== <class 'dpxgboost.core.DMatrix'>\n",
      "predt.shape (326, 4)\n",
      "(kRows, kClasses) (326, 4)\n",
      "[98]\ttrain-PyMError:0.00000\n",
      "======data====== <class 'dpxgboost.core.DMatrix'>\n",
      "predt.shape (326, 4)\n",
      "(kRows, kClasses) (326, 4)\n",
      "[99]\ttrain-PyMError:0.00000\n"
     ]
    }
   ],
   "source": [
    "custom_results = {}\n",
    "booster_custom = xgb.train({'num_class': kClasses,\n",
    "                                'disable_default_eval_metric': True},\n",
    "                               m,\n",
    "                               num_boost_round=kRounds,\n",
    "                               obj=softprob_obj,\n",
    "                               custom_metric=merror,\n",
    "                               evals_result=custom_results,\n",
    "                               evals=[(m, 'train')])\n",
    "\n",
    "predt_custom = predict(booster_custom, m)"
   ]
  },
  {
   "cell_type": "code",
   "execution_count": 25,
   "id": "4f95806b",
   "metadata": {},
   "outputs": [
    {
     "data": {
      "text/plain": [
       "82"
      ]
     },
     "execution_count": 25,
     "metadata": {},
     "output_type": "execute_result"
    }
   ],
   "source": [
    "len(y_test)"
   ]
  },
  {
   "cell_type": "code",
   "execution_count": 26,
   "id": "e0a9bf25",
   "metadata": {},
   "outputs": [
    {
     "data": {
      "text/plain": [
       "82"
      ]
     },
     "execution_count": 26,
     "metadata": {},
     "output_type": "execute_result"
    }
   ],
   "source": [
    "len(predt_custom[:82])"
   ]
  },
  {
   "cell_type": "code",
   "execution_count": 27,
   "id": "cac124a0",
   "metadata": {},
   "outputs": [],
   "source": [
    "m_test = xgb.DMatrix(X_test, y_test)"
   ]
  },
  {
   "cell_type": "code",
   "execution_count": 28,
   "id": "01da3796",
   "metadata": {},
   "outputs": [],
   "source": [
    "predt_custom = predict(booster_custom, m_test)"
   ]
  },
  {
   "cell_type": "code",
   "execution_count": 29,
   "id": "97e907c6",
   "metadata": {},
   "outputs": [
    {
     "data": {
      "text/plain": [
       "array([3., 3., 0., 0., 1., 2., 1., 0., 1., 0., 3., 2., 0., 0., 3., 1., 1.,\n",
       "       2., 2., 0., 3., 2., 2., 3., 1., 1., 3., 3., 0., 0., 0., 2., 1., 3.,\n",
       "       3., 3., 3., 3., 3., 0., 1., 2., 1., 1., 0., 2., 3., 1., 0., 2., 2.,\n",
       "       3., 2., 1., 1., 1., 2., 1., 3., 3., 3., 3., 1., 0., 2., 3., 2., 2.,\n",
       "       2., 1., 3., 2., 3., 1., 0., 2., 2., 0., 3., 1., 0., 0., 0., 0., 0.,\n",
       "       0., 0., 0., 0., 0., 0., 0., 0., 0., 0., 0., 0., 0., 0., 0., 0., 0.,\n",
       "       0., 0., 0., 0., 0., 0., 0., 0., 0., 0., 0., 0., 0., 0., 0., 0., 0.,\n",
       "       0., 0., 0., 0., 0., 0., 0., 0., 0., 0., 0., 0., 0., 0., 0., 0., 0.,\n",
       "       0., 0., 0., 0., 0., 0., 0., 0., 0., 0., 0., 0., 0., 0., 0., 0., 0.,\n",
       "       0., 0., 0., 0., 0., 0., 0., 0., 0., 0., 0., 0., 0., 0., 0., 0., 0.,\n",
       "       0., 0., 0., 0., 0., 0., 0., 0., 0., 0., 0., 0., 0., 0., 0., 0., 0.,\n",
       "       0., 0., 0., 0., 0., 0., 0., 0., 0., 0., 0., 0., 0., 0., 0., 0., 0.,\n",
       "       0., 0., 0., 0., 0., 0., 0., 0., 0., 0., 0., 0., 0., 0., 0., 0., 0.,\n",
       "       0., 0., 0., 0., 0., 0., 0., 0., 0., 0., 0., 0., 0., 0., 0., 0., 0.,\n",
       "       0., 0., 0., 0., 0., 0., 0., 0., 0., 0., 0., 0., 0., 0., 0., 0., 0.,\n",
       "       0., 0., 0., 0., 0., 0., 0., 0., 0., 0., 0., 0., 0., 0., 0., 0., 0.,\n",
       "       0., 0., 0., 0., 0., 0., 0., 0., 0., 0., 0., 0., 0., 0., 0., 0., 0.,\n",
       "       0., 0., 0., 0., 0., 0., 0., 0., 0., 0., 0., 0., 0., 0., 0., 0., 0.,\n",
       "       0., 0., 0., 0., 0., 0., 0., 0., 0., 0., 0., 0., 0., 0., 0., 0., 0.,\n",
       "       0., 0., 0.])"
      ]
     },
     "execution_count": 29,
     "metadata": {},
     "output_type": "execute_result"
    }
   ],
   "source": [
    "predt_custom"
   ]
  },
  {
   "cell_type": "code",
   "execution_count": 30,
   "id": "cc062732",
   "metadata": {},
   "outputs": [
    {
     "data": {
      "text/plain": [
       "326"
      ]
     },
     "execution_count": 30,
     "metadata": {},
     "output_type": "execute_result"
    }
   ],
   "source": [
    "len(predt_custom)"
   ]
  },
  {
   "cell_type": "code",
   "execution_count": 31,
   "id": "6412a698",
   "metadata": {},
   "outputs": [
    {
     "name": "stdout",
     "output_type": "stream",
     "text": [
      "accuarcy: 76.83%\n"
     ]
    }
   ],
   "source": [
    "accuracy = accuracy_score(y_test, predt_custom[:len(y_test)])\n",
    "print(\"accuarcy: %.2f%%\" % (accuracy * 100.0))"
   ]
  },
  {
   "cell_type": "code",
   "execution_count": null,
   "id": "c3e17a69",
   "metadata": {},
   "outputs": [],
   "source": []
  },
  {
   "cell_type": "code",
   "execution_count": null,
   "id": "adc8a2f7",
   "metadata": {},
   "outputs": [],
   "source": []
  },
  {
   "cell_type": "code",
   "execution_count": null,
   "id": "60103eb5",
   "metadata": {},
   "outputs": [],
   "source": []
  },
  {
   "cell_type": "code",
   "execution_count": null,
   "id": "e4e39353",
   "metadata": {},
   "outputs": [],
   "source": []
  },
  {
   "cell_type": "code",
   "execution_count": null,
   "id": "db5cd8b3",
   "metadata": {},
   "outputs": [],
   "source": []
  },
  {
   "cell_type": "code",
   "execution_count": null,
   "id": "19ff66fe",
   "metadata": {},
   "outputs": [],
   "source": []
  },
  {
   "cell_type": "code",
   "execution_count": null,
   "id": "c3f4e4df",
   "metadata": {},
   "outputs": [],
   "source": []
  },
  {
   "cell_type": "code",
   "execution_count": null,
   "id": "556144eb",
   "metadata": {},
   "outputs": [],
   "source": []
  },
  {
   "cell_type": "code",
   "execution_count": null,
   "id": "344251c4",
   "metadata": {},
   "outputs": [],
   "source": []
  },
  {
   "cell_type": "code",
   "execution_count": null,
   "id": "3de3083b",
   "metadata": {},
   "outputs": [],
   "source": []
  },
  {
   "cell_type": "code",
   "execution_count": null,
   "id": "c9eac19a",
   "metadata": {},
   "outputs": [],
   "source": []
  },
  {
   "cell_type": "code",
   "execution_count": null,
   "id": "d7b0102e",
   "metadata": {},
   "outputs": [],
   "source": []
  }
 ],
 "metadata": {
  "kernelspec": {
   "display_name": "Python 3 (ipykernel)",
   "language": "python",
   "name": "python3"
  },
  "language_info": {
   "codemirror_mode": {
    "name": "ipython",
    "version": 3
   },
   "file_extension": ".py",
   "mimetype": "text/x-python",
   "name": "python",
   "nbconvert_exporter": "python",
   "pygments_lexer": "ipython3",
   "version": "3.9.7"
  }
 },
 "nbformat": 4,
 "nbformat_minor": 5
}
